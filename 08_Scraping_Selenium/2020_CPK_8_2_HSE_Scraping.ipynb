{
 "cells": [
  {
   "cell_type": "code",
   "execution_count": 1,
   "metadata": {},
   "outputs": [],
   "source": [
    "link = 'https://cs.hse.ru/persons'"
   ]
  },
  {
   "cell_type": "code",
   "execution_count": 2,
   "metadata": {},
   "outputs": [],
   "source": [
    "from bs4 import BeautifulSoup\n",
    "import requests\n",
    "import re"
   ]
  },
  {
   "cell_type": "code",
   "execution_count": 18,
   "metadata": {},
   "outputs": [],
   "source": [
    "soup = BeautifulSoup(requests.get(link).text, 'lxml')\n",
    "persons = soup.find_all('a', {\"class\":\"fa-person__name\"})\n",
    "persons_links = ['http://' + a.get('href').lstrip('//') for a in persons]\n",
    "first_ten = persons_links[:10]"
   ]
  },
  {
   "cell_type": "code",
   "execution_count": 19,
   "metadata": {},
   "outputs": [
    {
     "data": {
      "text/plain": [
       "['http://www.hse.ru/staff/arjantsev',\n",
       " 'http://www.hse.ru/staff/voznesenskaya',\n",
       " 'http://www.hse.ru/staff/obiedkov',\n",
       " 'http://www.hse.ru/staff/igergart',\n",
       " 'http://www.hse.ru/staff/samonenko',\n",
       " 'http://www.hse.ru/org/persons/113170202',\n",
       " 'http://www.hse.ru/staff/abashidze',\n",
       " 'http://www.hse.ru/org/persons/14279019',\n",
       " 'http://www.hse.ru/org/persons/150045920',\n",
       " 'http://www.hse.ru/org/persons/348330900']"
      ]
     },
     "execution_count": 19,
     "metadata": {},
     "output_type": "execute_result"
    }
   ],
   "source": [
    "first_ten"
   ]
  },
  {
   "cell_type": "code",
   "execution_count": 52,
   "metadata": {},
   "outputs": [],
   "source": [
    "for link in first_ten:\n",
    "    page = requests.get(link).text\n",
    "    if 'Резюме' in page:\n",
    "        soup_link = BeautifulSoup(page, 'lxml')\n",
    "        cv_link = 'https://www.hse.ru' + soup_link.find_all('a', text='Резюме')[0].get('href')\n",
    "        name = re.findall(r'Сотрудники - ([\\w\\s]+\\b)', soup_link.find_all('title')[0].get_text())[0]\n",
    "        doc = requests.get(cv_link)\n",
    "        file_type = doc.headers['Content-Type'].split('/')[1]\n",
    "        fh = open(f'{name}.{file_type}', 'wb')\n",
    "        fh.write(doc.content)\n",
    "        fh.close()\n",
    "    "
   ]
  },
  {
   "cell_type": "code",
   "execution_count": 59,
   "metadata": {},
   "outputs": [
    {
     "name": "stdout",
     "output_type": "stream",
     "text": [
      "{'Аржанцев Иван Владимирович': ['английский', 'украинский', 'немецкий', 'французский'], 'Объедков Сергей Александрович': ['английский', 'французский'], 'Самоненко Илья Юрьевич': ['английский'], 'Абашидзе Хатуна Датоевна': ['английский', 'грузинский', 'немецкий', 'русский', 'турецкий'], 'Масютин Алексей Александрович': ['английский', 'французский'], 'Абовьян Наталья Михайловна': ['английский', 'французский (начальные знания)', 'испанский (начальные знания)']}\n"
     ]
    }
   ],
   "source": [
    "lang_dict = {}\n",
    "for link in first_ten:\n",
    "    page = requests.get(link).text\n",
    "    if 'Резюме' in page:\n",
    "        soup_link = BeautifulSoup(page, 'lxml')\n",
    "        name = re.findall(r'Сотрудники - ([\\w\\s]+\\b)', soup_link.find_all('title')[0].get_text())[0]\n",
    "        lang = soup_link.find_all('dl', {'class':\"main-list large main-list-language-knowledge-level\"})[0]\n",
    "        lang_dict[name] = [l.get_text() for l in lang.find_all('dd')]\n",
    "        \n",
    "print(lang_dict)"
   ]
  }
 ],
 "metadata": {
  "kernelspec": {
   "display_name": "Python 3",
   "language": "python",
   "name": "python3"
  },
  "language_info": {
   "codemirror_mode": {
    "name": "ipython",
    "version": 3
   },
   "file_extension": ".py",
   "mimetype": "text/x-python",
   "name": "python",
   "nbconvert_exporter": "python",
   "pygments_lexer": "ipython3",
   "version": "3.6.5"
  }
 },
 "nbformat": 4,
 "nbformat_minor": 2
}
