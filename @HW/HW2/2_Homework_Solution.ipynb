{
 "cells": [
  {
   "cell_type": "markdown",
   "metadata": {},
   "source": [
    "Программа повышения квалификации (научно-педагогических) работников НИУ ВШЭ\n",
    "\n",
    "# Python для исследователей\n",
    "\n",
    "Домашняя работа # 2\n",
    "\n",
    "*Автор: Рогович Татьяна, НИУ ВШЭ*\n",
    "\n",
    "#### Disclaimer\n",
    "В некоторых заданиях нужно считывать файлы и записывать ответ в файл. Пожалуйста, читайте файлы из той же папки, где лежит к ним блокнот (не прописывайте к ним полный путь). Файл с ответом нужно вложить в архив с блокнотом и архив добавить в Dropbox."
   ]
  },
  {
   "cell_type": "markdown",
   "metadata": {},
   "source": [
    "# Задание 1. Сумма строк (1 балл)\n",
    "\n",
    "Дан файл, каждая строка которого может содержать одно или несколько целых чисел, разделенных одним или несколькими пробелами.\n",
    "\n",
    "Вычислите сумму чисел в каждой строке и выведите эти суммы через пробел (для каждой строки выводится сумма чисел в этой строке).\n",
    "\n",
    "В этой задаче вам нужно подсчитать ответ для данного входного файла. \n",
    "\n",
    "**Входной файл: problem3.txt**  \n",
    "**Ответ выведите в блокноте. **\n",
    "\n",
    "Первое число в ответе: 34568147, последнее: 111\n",
    "\n",
    "Например, если бы содержимое входного файла было следующим:\n",
    "\n",
    "```\n",
    "2 2\n",
    " 3    4\n",
    " 1       5\n",
    "```\n",
    "то в качестве ответа необходимо было бы сдать последовательность чисел\n",
    "\n",
    "4 7 6"
   ]
  },
  {
   "cell_type": "code",
   "execution_count": 2,
   "metadata": {},
   "outputs": [
    {
     "name": "stdout",
     "output_type": "stream",
     "text": [
      "34568147 255016 5617498 0 31397 17 10119996 111 "
     ]
    }
   ],
   "source": [
    "with open('problem3.txt') as fh:\n",
    "    for line in fh:\n",
    "        print(sum(map(int, line.strip().split())), end=' ')"
   ]
  },
  {
   "cell_type": "markdown",
   "metadata": {},
   "source": [
    "# Задание 2: Буквы, строки и слова (2 балла)\n",
    "Дан файл. Определите сколько в нем букв (латинского алфавита), слов, строк. Выведите три найденных числа в формате, приведенном в примере. Словом считается последовательность больших и маленьких латинских букв. *Все остальные символы считаются разделителями слов.* Если будете решать регулярками, то будьте аккуратны, потому что некоторые выражения \"захватывают\" кроме букв лишние символы. Если будете пользоваться методами строк, то .isalpha() проверяет на то, что строка является буквой.\n",
    "\n",
    "Пример входного файла:\n",
    "```\n",
    "Beautiful is better than ugly.\n",
    "Explicit is better than implicit.\n",
    "Simple is better than complex.\n",
    "Complex is better than complicated.\n",
    "```\n",
    "Пример ответа:\n",
    "\n",
    "```\n",
    "Input file contains:\n",
    "108 letters \n",
    "20 words \n",
    "4 lines \n",
    "```\n",
    "\n",
    "**Входной файл: problem4.txt**  \n",
    "**Ответ нужно вывести под ячейкой с решением по образцу в примере**\n",
    "\n",
    "В количестве букв первая цифра 4, а последняя 3.  \n",
    "В количестве слов: 1 и 6.  \n",
    "В количестве строк: 1 и 0.  "
   ]
  },
  {
   "cell_type": "code",
   "execution_count": 3,
   "metadata": {},
   "outputs": [
    {
     "name": "stdout",
     "output_type": "stream",
     "text": [
      "Input file contains:\n",
      "44473 letters\n",
      "11496 words\n",
      "1000 lines\n"
     ]
    }
   ],
   "source": [
    "import re\n",
    "with open('problem4.txt') as fh:\n",
    "    letters = 0\n",
    "    words = 0\n",
    "    lines = fh.readlines()\n",
    "    for line in lines:\n",
    "        letters += len(re.findall(r'[a-zA-Z]', line.strip()))\n",
    "        words += len(re.findall(r'[a-zA-Z]+', line.strip()))\n",
    "\n",
    "print('Input file contains:')\n",
    "print(letters, 'letters')\n",
    "print(words, 'words')\n",
    "print(len(lines), 'lines')"
   ]
  },
  {
   "cell_type": "markdown",
   "metadata": {},
   "source": [
    "# Задание 3. Слова на а и е (1 балл)\n",
    "Каждый пункт 0.5 балла."
   ]
  },
  {
   "cell_type": "markdown",
   "metadata": {},
   "source": [
    "Найдите в тексте слова, начинающиеся на а и на е c помощью *методов строк* (циклами и всем остальным можно пользоваться) \n",
    "В ответе выведите найденные слова через пробел."
   ]
  },
  {
   "cell_type": "code",
   "execution_count": 5,
   "metadata": {},
   "outputs": [
    {
     "name": "stdout",
     "output_type": "stream",
     "text": [
      "example an a elements. elements are added and accordingly. "
     ]
    }
   ],
   "source": [
    "text = \"The following example creates an ArrayList with a capacity of 50 elements.\\\n",
    "        Four elements are then added to the ArrayList and the ArrayList is trimmed accordingly.\"\n",
    "# ваше решение\n",
    "for word in text.split():\n",
    "    if word.startswith(('a', 'e')):\n",
    "        print(word, end=' ')"
   ]
  },
  {
   "cell_type": "markdown",
   "metadata": {},
   "source": [
    "Найдите в тексте слова, начинающиеся на а и на е c помощью *регулярных выражений*.\n",
    "В ответе выведите найденные слова через пробел."
   ]
  },
  {
   "cell_type": "code",
   "execution_count": 9,
   "metadata": {},
   "outputs": [
    {
     "name": "stdout",
     "output_type": "stream",
     "text": [
      "['euch', 'einst', 'euch']\n"
     ]
    }
   ],
   "source": [
    "import re\n",
    "text = '''\n",
    "        Ihr naht euch wieder, schwankende Gestalten,\n",
    "        Die früh sich einst dem trüben Blick gezeigt.\n",
    "        Versuch’ ich wohl, euch diesmal festzuhalten?\n",
    "        Fühl’ ich mein Herz noch jenem Wahn geneigt?\n",
    "        '''\n",
    "# ваше решение\n",
    "words = re.findall(r'\\b[AEae][A-z]+', text)\n",
    "print(words)"
   ]
  },
  {
   "cell_type": "markdown",
   "metadata": {},
   "source": [
    "# Задание 4: Язык племени Мумба-юмба (3 балла)"
   ]
  },
  {
   "cell_type": "markdown",
   "metadata": {},
   "source": [
    "Дан текст на языке племени Мумба-Юмба. Запишите в файл все уникальные слова, встречающиеся в тексте, разделяя их пробелом. Слова должны быть отсортированы по убыванию их количества появления в тексте, а при одинаковой частоте появления — в алфавитном порядке.\n",
    "\n",
    "Словом считается последовательность непробельных символов идущих подряд, слова разделены одним или большим числом пробелов или символами конца строки.\n",
    "\n",
    "*Подсказка.* После того, как вы создадите словарь всех слов, вам захочется отсортировать его по частоте встречаемости слова. \n",
    "Вызвав метод dict.items() от вашего словаря вы получите список кортежей вида [('what', 2), ('hi', 2), ('is', 1)]. Чтобы получилось нужная сортировка такой список нужно сначала отсортировать по алфавиту от a до z (первый элемент), а затем по убыванию их количества появления в тексте. Эту задачу можно решить через две сортировки (и не забудьте про параметр key во второй!).\n",
    "\n",
    "*Подсказка 2.* Когда будете записывать слова в файл, не забудьте, что после последнего слова пробела быть не должно.\n",
    "\n",
    "**Входной файл: problem2.txt**  \n",
    "**Приложите к блокноту файл с ответом: output2.txt**\n",
    "\n",
    "Первое слово в правильном ответе: qzjijwnklo, последнее: zzzsrymltasziudkfpqn"
   ]
  },
  {
   "cell_type": "code",
   "execution_count": 2,
   "metadata": {},
   "outputs": [],
   "source": [
    "words = {}\n",
    "\n",
    "with open('problem2.txt') as fh:\n",
    "    for line in fh.readlines():\n",
    "        for word in line.strip().split():\n",
    "            words[word] = words.get(word, 0) + 1\n",
    "ordered = sorted(words.items(), key = lambda x: x[0])   \n",
    "ordered_q = sorted(ordered, key=lambda x: x[1], reverse = True)\n",
    "\n",
    "fh = open('output2.txt', 'w')\n",
    "for idx in range(len(ordered)):\n",
    "    if idx != len(ordered) - 1:\n",
    "        fh.write(ordered_q[idx][0] + ' ')\n",
    "    else:\n",
    "        fh.write(ordered_q[idx][0])\n",
    "        \n",
    "fh.close()"
   ]
  },
  {
   "cell_type": "markdown",
   "metadata": {},
   "source": [
    "# Задание 5. Делим предложение на токены (3 балла)\n",
    "\n",
    "Разбить предложение на токены. Задание можно сделать частично.\n",
    "\n",
    "**Есть несколько правил:**\n",
    "\n",
    "*0.6 балла*\n",
    "* Несколько слов в кавычках должны попасть в один токен  \n",
    "`This \"huge test\" is pointless => This,huge test,is,pointless`\n",
    "\n",
    "*0.6 балла*\n",
    "* Слова написанные через дефис так же попадают в один токен.\n",
    "\n",
    "*0.6 балла*\n",
    "* Слова написанные через несколько дефисов (тире), или имеющие дефис в начале или в конце попадают в раздельные токены.  \n",
    "`Suzie Smith-Hopper test--hyphens => Suzie,Smith-Hopper,test,hyphens`\n",
    "\n",
    "*0.6 балла*\n",
    "* Сокращения (стяжения) попадают в один токен  \n",
    "`I can't do it => I,can't,do,it.`\n",
    "\n",
    "*0.6 балла*\n",
    "* Вся пунктуация кроме апострофов и дефисов должна быть убрана.  \n",
    "`Too long; didn't read => Too,long,didn't,read.`\n",
    "\n",
    "Протестируйте ваше регулярное выражение на всех примерах."
   ]
  },
  {
   "cell_type": "code",
   "execution_count": 34,
   "metadata": {},
   "outputs": [
    {
     "name": "stdout",
     "output_type": "stream",
     "text": [
      "['This', '\"huge test\"', 'is', 'pointless', 'Suzie', 'Smith-Hopper', 'test', 'hyphens', 'I', \"can't\", 'do', 'it', 'Too', 'long', \"didn't\", 'read']\n"
     ]
    }
   ],
   "source": [
    "string1 = \"This \\\"huge test\\\" is pointless Suzie Smith-Hopper test--hyphens I can't do it Too long; didn't read\"\n",
    "# все вместе\n",
    "print(re.findall('\\\"*\\w+(?:[\\'-][A-z]+)*(?:(?:\\s\\w+)*\\\")*', string1))"
   ]
  },
  {
   "cell_type": "code",
   "execution_count": 35,
   "metadata": {},
   "outputs": [
    {
     "name": "stdout",
     "output_type": "stream",
     "text": [
      "['This', '\"huge test\"', 'is', 'pointless']\n",
      "['This', '\"very huge test\"', 'is', '\"pointless very very pointless\"']\n"
     ]
    }
   ],
   "source": [
    "import re\n",
    "# Несколько слов в кавычках должны попасть в один токен\n",
    "s1 = 'This \"huge test\" is pointless'\n",
    "print(re.findall('\\\"*\\w+(?:(?:\\s\\w+)*\\\")*', s1))\n",
    "\n",
    "# сделаем тест трех и больше слов в кавычках\n",
    "s2 = 'This \"very huge test\" is \"pointless very very pointless\"'\n",
    "print(re.findall('\\\"*\\w+(?:(?:\\s\\w+)*\\\")*', s2))\n"
   ]
  },
  {
   "cell_type": "code",
   "execution_count": 36,
   "metadata": {},
   "outputs": [
    {
     "name": "stdout",
     "output_type": "stream",
     "text": [
      "['Suzie', 'Smith-Hopper', 'test', 'hyphens']\n"
     ]
    }
   ],
   "source": [
    "# Слова написанные через дефис так же попадают в один токен.\n",
    "# Слова написанные через несколько дефисов (тире), или имеющие дефис в начале \n",
    "# или в конце попадают в раздельные токены.\n",
    "\n",
    "s3 = 'Suzie Smith-Hopper test--hyphens'\n",
    "print(re.findall('[A-z]+(?:-[A-z]+)*', s3))"
   ]
  },
  {
   "cell_type": "code",
   "execution_count": 37,
   "metadata": {},
   "outputs": [
    {
     "name": "stdout",
     "output_type": "stream",
     "text": [
      "['I', \"can't\", 'do', 'it']\n"
     ]
    }
   ],
   "source": [
    "# Сокращения (стяжения) попадают в один токен\n",
    "s4 = \"I can't do it\"\n",
    "print(re.findall('[A-z]+(?:\\'[A-z]+)*', s4))"
   ]
  },
  {
   "cell_type": "code",
   "execution_count": 31,
   "metadata": {},
   "outputs": [
    {
     "name": "stdout",
     "output_type": "stream",
     "text": [
      "['Too', 'long', \"didn't\", 'read']\n"
     ]
    }
   ],
   "source": [
    "# Вся пунктуация кроме апострофов и дефисов должна быть убрана.\n",
    "s5 = \"Too long; didn't read\"\n",
    "print(re.findall('[A-z\\'-]+', s5))"
   ]
  }
 ],
 "metadata": {
  "kernelspec": {
   "display_name": "Python 3",
   "language": "python",
   "name": "python3"
  },
  "language_info": {
   "codemirror_mode": {
    "name": "ipython",
    "version": 3
   },
   "file_extension": ".py",
   "mimetype": "text/x-python",
   "name": "python",
   "nbconvert_exporter": "python",
   "pygments_lexer": "ipython3",
   "version": "3.6.5"
  }
 },
 "nbformat": 4,
 "nbformat_minor": 2
}
