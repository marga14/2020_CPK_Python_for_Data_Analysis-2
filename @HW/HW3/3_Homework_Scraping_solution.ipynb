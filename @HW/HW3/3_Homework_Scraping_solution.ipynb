{
 "cells": [
  {
   "cell_type": "markdown",
   "metadata": {},
   "source": [
    "Программа повышения квалификации (научно-педагогических) работников НИУ ВШЭ\n",
    "\n",
    "# Python для исследователей\n",
    "\n",
    "\n",
    "Домашняя работа # 3, часть 1  \n",
    "Автор: Михаил Густокашин\n",
    "\n",
    "#### Disclaimer\n",
    "Задание разбито на две части, не забудьте про второй блокнот!\n",
    "\n",
    "Всего в этой части можно набрать 5.5 баллов, максимальная оценка за обе части - 10 баллов."
   ]
  },
  {
   "cell_type": "markdown",
   "metadata": {},
   "source": [
    "### Задание 1. Скрейпинг cтраницы (0.5 балла)\n",
    "\n",
    "Мы сохранили страницу с википедии про языки программирования и сохранили по адресу https://stepik.org/media/attachments/lesson/209717/1.html\n",
    "Скачайте её с помощью скрипта на Питоне и посчитайте, какой язык упоминается чаще Python или C++ (ответ должен быть одной из этих двух строк). Необходимо просто подсчитать количество вхождений слова Python или C++ как подстроки. Тут не нужно пользоваться парсингом и bs, работайте со строками."
   ]
  },
  {
   "cell_type": "code",
   "execution_count": 1,
   "metadata": {},
   "outputs": [
    {
     "name": "stdout",
     "output_type": "stream",
     "text": [
      "C++\n"
     ]
    }
   ],
   "source": [
    "# ваше решение здесь\n",
    "import requests\n",
    "html = requests.get('https://stepik.org/media/attachments/lesson/209717/1.html').text\n",
    "\n",
    "# если не переводили к нижнему регистру, то все равно ок\n",
    "if html.lower().count('python') > html.lower().count('c++'):\n",
    "    print('Python')\n",
    "else:\n",
    "    print('C++')"
   ]
  },
  {
   "cell_type": "markdown",
   "metadata": {},
   "source": [
    "### Задание 2. Автоматизируем написание html скрипта (2 балла)\n",
    "В этой задаче вам необходимо научиться генерировать html-код на питоне и сдать на проверку html-файл, в котором будет таблица размером 10 на 10, которая должна содержать таблицу умножения для чисел от 1 до 10. При открытии вашего файла в браузере это должно выглядеть примерно так:\n",
    "\n",
    "![](table.jpg)\n",
    "\n",
    "```\n",
    "1. Ваш файл должен начинаться с тегов <html> и <body> и заканчиваться </body> и </html>.\n",
    "2. Для создания таблицы можно пользоваться тегами <table> (создание таблицы), \n",
    "<tr> (создание строки в таблице) и <td> (создание отдельной ячейки). \n",
    "Все открытые теги нужно закрыть, причем сделать это нужно в правильном порядке.\n",
    "3. Пожалуйста, не используйте никаких украшений и других тегов.\n",
    "```\n",
    "Ниже напишите код, который генерирует html и записывает его в файл, и приложите к архиву с вашим блокнотом файл **output2.html**\n"
   ]
  },
  {
   "cell_type": "code",
   "execution_count": 2,
   "metadata": {},
   "outputs": [],
   "source": [
    "# ваше решение здесь\n",
    "\n",
    "fh = open('output2.html', 'w')\n",
    "fh.write('<html><body><table>')\n",
    "for x in range(1, 11):\n",
    "    fh.write('<tr>')\n",
    "    for y in range(1, 11):\n",
    "        fh.write(f'<td>{x*y}</td>')\n",
    "    fh.write('</tr>')\n",
    "\n",
    "fh.write('</html></body></table>')\n",
    "fh.close()"
   ]
  },
  {
   "cell_type": "markdown",
   "metadata": {},
   "source": [
    "### Задание 3. Скрэйпинг ссылок (2 балла)\n",
    "\n",
    "*1 балл*  \n",
    "### Задание 3. Скрэйпинг ссылок (2 балла)\n",
    "\n",
    "*1 балл*  \n",
    "Мы сохранили статью с википедии, она доступна по ссылке https://stepik.org/media/attachments/lesson/258943/Moscow.html\n",
    "\n",
    "Вам необходимо обработать ее с помощью BeautifulSoup и подсчитать все внутренние ссылки, которые не содержат в себе двоеточия (не являются ссылкой на техническую статью в википедии) и не начинаются с символа #.\n",
    "\n",
    "Под ссылкой понимается содержимое аттрибута href тега a. Ссылка называется внешней, если она ведет на другой сайт (т.е. начинается с http:// или https://) или начинаются с '/w'. Все остальные ссылки считаем внутренними.\n",
    "\n",
    "Вам могут быть полезны методы find_all для супа (он позволяет найти все теги на странице), метод has_attr для тега (проверяет есть ли такой атрибут у тега) и доступ к атрибуту тега по аналогии со словарем.\n",
    "В качестве ответа выведите количество внутренних ссылок, удовлетворяющих условию.\n",
    "\n",
    "*1 балл*  \n",
    "В этой задаче достаточно обернуть в функцию то, что делает предыдущая и вызвать подсчет числа внутренних ссылок для двух статей: https://stepik.org/media/attachments/lesson/258943/Moscow.html и https://stepik.org/media/attachments/lesson/258944/New-York.html\n",
    "В качестве ответа на задачу выведите два числа через пробел.\n",
    "\n"
   ]
  },
  {
   "cell_type": "code",
   "execution_count": 9,
   "metadata": {},
   "outputs": [
    {
     "data": {
      "text/plain": [
       "1910"
      ]
     },
     "execution_count": 9,
     "metadata": {},
     "output_type": "execute_result"
    }
   ],
   "source": [
    "# Ваше решение здесь\n",
    "import requests\n",
    "from bs4 import BeautifulSoup\n",
    "\n",
    "soup = BeautifulSoup(requests.get('https://stepik.org/media/attachments/lesson/258943/Moscow.html').text, 'lxml')\n",
    "\n",
    "all_links = []\n",
    "\n",
    "for link in soup.find_all('a'):\n",
    "    \n",
    "    if link.has_attr('href'):\n",
    "        all_links.append(link.get('href'))\n",
    "\n",
    "# это правильное решение        \n",
    "links_internal = [i for i in all_links if not i.startswith('http') and ':' \n",
    "                  not in i and not i.startswith('#') and not i.startswith('/w/')]\n",
    "len(links_internal)"
   ]
  },
  {
   "cell_type": "code",
   "execution_count": 6,
   "metadata": {},
   "outputs": [
    {
     "name": "stdout",
     "output_type": "stream",
     "text": [
      "19\n"
     ]
    }
   ],
   "source": [
    "# но в условии была опечатка - нужно было отсекать /w/, а /w, как мы написали (вернее не учли,\n",
    "# что вы скорее всего будете делать проверку именно на /w в начале, которое отсекает большинство внутренних\n",
    "# ссылок). Засчитываются оба варианта решения.\n",
    "print(len([i for i in all_links if not i.startswith('http') and ':' \n",
    "           not in i and not i.startswith('#') and not i.startswith('/w')]))"
   ]
  },
  {
   "cell_type": "code",
   "execution_count": 11,
   "metadata": {},
   "outputs": [
    {
     "name": "stdout",
     "output_type": "stream",
     "text": [
      "1910 3198\n"
     ]
    }
   ],
   "source": [
    "# правильное решение\n",
    "def links_counter(link):\n",
    "    soup = BeautifulSoup(requests.get(link).text, 'lxml')\n",
    "\n",
    "    all_links = []\n",
    "\n",
    "    for link in soup.find_all('a'):\n",
    "        if link.has_attr('href'):\n",
    "            all_links.append(link.get('href'))\n",
    "        \n",
    "    return (len([i for i in all_links if not i.startswith('http') and ':' not in i \n",
    "                 and not i.startswith('#') and not i.startswith('/w/')]))\n",
    "\n",
    "print(links_counter('https://stepik.org/media/attachments/lesson/258943/Moscow.html'), \\\n",
    "      links_counter('https://stepik.org/media/attachments/lesson/258944/New-York.html'))"
   ]
  },
  {
   "cell_type": "code",
   "execution_count": 12,
   "metadata": {},
   "outputs": [
    {
     "name": "stdout",
     "output_type": "stream",
     "text": [
      "19 11\n"
     ]
    }
   ],
   "source": [
    "# засчитываемое решение\n",
    "def links_counter(link):\n",
    "    soup = BeautifulSoup(requests.get(link).text, 'lxml')\n",
    "\n",
    "    all_links = []\n",
    "\n",
    "    for link in soup.find_all('a'):\n",
    "        if link.has_attr('href'):\n",
    "            all_links.append(link.get('href'))\n",
    "        \n",
    "    return (len([i for i in all_links if not i.startswith('http') and ':' not in i \n",
    "                 and not i.startswith('#') and not i.startswith('/w')]))\n",
    "\n",
    "print(links_counter('https://stepik.org/media/attachments/lesson/258943/Moscow.html'), \\\n",
    "      links_counter('https://stepik.org/media/attachments/lesson/258944/New-York.html'))"
   ]
  },
  {
   "cell_type": "markdown",
   "metadata": {},
   "source": [
    "### Задание 4. Скрейпинг таблицы (1 балл)\n",
    "\n",
    "В файле https://stepik.org/media/attachments/lesson/209723/3.html находится одна таблица. Просуммируйте все числа в ней и введите в качестве ответа одно число - эту сумму. Для доступа к ячейкам используйте возможности BeautifulSoup.\n"
   ]
  },
  {
   "cell_type": "code",
   "execution_count": 13,
   "metadata": {},
   "outputs": [
    {
     "name": "stdout",
     "output_type": "stream",
     "text": [
      "1005425\n"
     ]
    }
   ],
   "source": [
    "# решение здесь\n",
    "soup = BeautifulSoup(requests.get('https://stepik.org/media/attachments/lesson/209723/3.html').text, 'lxml')\n",
    "numbers = []\n",
    "\n",
    "for td in soup.find_all('td'):\n",
    "    numbers.append(int(td.text))\n",
    "    \n",
    "print(sum(numbers))\n"
   ]
  }
 ],
 "metadata": {
  "kernelspec": {
   "display_name": "Python 3",
   "language": "python",
   "name": "python3"
  },
  "language_info": {
   "codemirror_mode": {
    "name": "ipython",
    "version": 3
   },
   "file_extension": ".py",
   "mimetype": "text/x-python",
   "name": "python",
   "nbconvert_exporter": "python",
   "pygments_lexer": "ipython3",
   "version": "3.6.5"
  }
 },
 "nbformat": 4,
 "nbformat_minor": 2
}
