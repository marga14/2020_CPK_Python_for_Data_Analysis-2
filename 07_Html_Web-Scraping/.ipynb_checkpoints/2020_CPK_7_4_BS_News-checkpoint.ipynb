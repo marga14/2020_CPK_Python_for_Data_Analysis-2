{
 "cells": [
  {
   "cell_type": "markdown",
   "metadata": {},
   "source": [
    "Программа повышения квалификации (научно-педагогических) работников НИУ ВШЭ\n",
    "\n",
    "# Python для исследователей\n",
    "\n",
    "*Автор: Алла Тамбовцева, НИУ ВШЭ*  \n",
    "\n",
    "## Web-scraping: скрэйпинг новостного сайта"
   ]
  },
  {
   "cell_type": "markdown",
   "metadata": {},
   "source": [
    "Мы уже немного познакомились со структурой html-файлов, теперь попробуем выгрузить информацию из реальной страницы, а точнее, с реального сайта [nplus1.ru](https://nplus1.ru/).\n",
    "\n",
    "**Наша задача:** выгрузить недавние новости в датафрейм `pandas`, чтобы потом сохранить все в csv-файл.\n",
    "\n",
    "Сначала сгрузим весь html-код страницы и сохраним его в отдельную переменную. Для этого нам понадобится библиотека `requests`. Импортируем её:"
   ]
  },
  {
   "cell_type": "code",
   "execution_count": 1,
   "metadata": {},
   "outputs": [],
   "source": [
    "import requests"
   ]
  },
  {
   "cell_type": "markdown",
   "metadata": {},
   "source": [
    "Сохраним ссылку на главную страницу сайта в переменную `url` для удобства и выгрузим страницу. (Разумеется, это будет работать при подключении к интернету. Если соединение будет отключено, Python выдаст `NewConnectionError`)."
   ]
  },
  {
   "cell_type": "code",
   "execution_count": 2,
   "metadata": {},
   "outputs": [],
   "source": [
    "url = 'https://nplus1.ru/' # сохраняем\n",
    "page = requests.get(url) # загружаем страницу по ссылке"
   ]
  },
  {
   "cell_type": "markdown",
   "metadata": {},
   "source": [
    "Если мы просто посмотрим на объект, мы ничего особенного не увидим:"
   ]
  },
  {
   "cell_type": "code",
   "execution_count": 3,
   "metadata": {},
   "outputs": [
    {
     "data": {
      "text/plain": [
       "<Response [200]>"
      ]
     },
     "execution_count": 3,
     "metadata": {},
     "output_type": "execute_result"
    }
   ],
   "source": [
    "page  # response 200 - страница загружена"
   ]
  },
  {
   "cell_type": "markdown",
   "metadata": {},
   "source": [
    "Импортируем функцию `BeautifulSoup` из библиотеки `bs4` (от *beautifulsoup4*) и заберём со страницы `page` код html в виде текста. "
   ]
  },
  {
   "cell_type": "code",
   "execution_count": 4,
   "metadata": {},
   "outputs": [],
   "source": [
    "from bs4 import BeautifulSoup  # не спрашивайте, почему BeautifulSoup"
   ]
  },
  {
   "cell_type": "code",
   "execution_count": 5,
   "metadata": {},
   "outputs": [],
   "source": [
    "soup = BeautifulSoup(page.text, 'lxml')"
   ]
  },
  {
   "cell_type": "markdown",
   "metadata": {},
   "source": [
    "Если выведем `soup` на экран, мы увидим то же самое, что в режиме разработчика или в режиме происмотра исходного кода (`view-source` через *Ctrl+U* в Google Chrome)."
   ]
  },
  {
   "cell_type": "code",
   "execution_count": 6,
   "metadata": {},
   "outputs": [],
   "source": [
    "# soup"
   ]
  },
  {
   "cell_type": "markdown",
   "metadata": {},
   "source": [
    "Для просмотра выглядит не очень удобно.  «Причешем» наш `soup` – воспользуемся методом `.prettify()` в сочетании с функцией `print()`."
   ]
  },
  {
   "cell_type": "code",
   "execution_count": 7,
   "metadata": {},
   "outputs": [],
   "source": [
    "# print(soup.prettify())"
   ]
  },
  {
   "cell_type": "markdown",
   "metadata": {},
   "source": [
    "В такой выдаче ориентироваться гораздо удобнее (но при желании, то же можно увидеть в браузере, на большом экране)."
   ]
  },
  {
   "cell_type": "markdown",
   "metadata": {},
   "source": [
    "Чтобы сгрузить все новости с главной страницы сайта, нужно собрать все ссылки на страницы с этими новостями. Ссылки в html-файле всегда заключены в тэг `<a></a>` и имеют атрибут `href`. Посмотрим на кусочки кода, соответствующие всем ссылкам на главной странице сайта:"
   ]
  },
  {
   "cell_type": "code",
   "execution_count": 8,
   "metadata": {},
   "outputs": [
    {
     "name": "stdout",
     "output_type": "stream",
     "text": [
      "#\n",
      "/\n",
      "#\n",
      "#\n",
      "/rubric/astronomy\n",
      "/rubric/physics\n",
      "/rubric/biology\n",
      "/rubric/robots-drones\n",
      "/theme/explainatorium\n",
      "/theme/bookshelf\n",
      "/theme/Courses\n",
      "/theme/coronavirus-history\n",
      "/\n",
      "#\n",
      "/rubric/astronomy\n",
      "/rubric/physics\n",
      "/rubric/biology\n",
      "/rubric/robots-drones\n",
      "#\n",
      "/theme/explainatorium\n",
      "/theme/bookshelf\n",
      "/theme/Courses\n",
      "/theme/coronavirus-history\n",
      "https://nplus1.ru/blog/2020/09/30/in-search-of-constantinople\n",
      "https://nplus1.ru/blog/2020/09/30/in-search-of-constantinople\n",
      "https://nplus1.ru/blog/2020/09/28/the-hungry-steppe\n",
      "https://nplus1.ru/blog/2020/09/24/nobel-prediction\n",
      "https://nplus1.ru/blog/2020/09/18/formations-of-the-secular\n",
      "https://nplus1.ru/blog/2020/09/15/the-hidden-history-of-animal-life\n",
      "https://nplus1.ru/blog/2020/09/11/who-we-are-and-how-we-got-here\n",
      "https://nplus1.ru/blog/2020/09/10/the-science-of-storytelling\n",
      "https://nplus1.ru/blog/2020/07/27/the-apocalypse-in-art\n",
      "https://nplus1.ru/blog/2020/09/02/the-shape-of-a-life\n",
      "https://nplus1.ru/blog/2020/10/01/october-2020-observations\n",
      "/news/2020/10/03/biocoronasensor\n",
      "/news/2020/10/03/capsule\n",
      "/news/2020/10/03/sand\n",
      "/news/2020/10/03/reaper\n",
      "/news/2020/10/03/cygnus-ng14\n",
      "/news/2020/10/02/venus-phosphine-pioneer-13\n",
      "/news/2020/10/02/dna-linked-nanoparticles\n",
      "/material/2020/10/03/birds-to-watch\n",
      "/rubric/zoology\n",
      "/material/2020/10/02/height-not-too-cool\n",
      "/rubric/biology\n",
      "/news/2020/10/02/social-cocroaches\n",
      "/news/2020/10/02/seizure-microglia\n",
      "/news/2020/10/02/delirium-as-simptom-of-COVID-19-in-older-people\n",
      "/news/2020/10/02/neuro-robot\n",
      "/news/2020/10/02/acropora-stronghold\n",
      "/news/2020/10/02/robot-ceiling\n",
      "/blog/2020/10/01/quakers-to-the-rescue\n",
      "/blog/2020/10/01/october-2020-observations\n",
      "/material/2020/10/01/add-smth\n",
      "/rubric/partners\n",
      "/material/2020/09/24/dodecahedron\n",
      "/rubric/math\n",
      "/news/2020/10/02/tianwen-1-selfie\n",
      "/news/2020/10/02/mona-lisa-spolvero\n",
      "/news/2020/10/02/bolometer-for-cqe\n",
      "/news/2020/10/02/children-emotion-understanding\n",
      "/news/2020/10/01/solar-orbiter-mag-results\n",
      "/news/2020/10/01/homo-head-pain\n",
      "/blog/2020/09/28/the-hungry-steppe\n",
      "/blog/2020/09/25/the-uninhabitable-earth\n",
      "/material/2020/09/30/how-playgrounds-work\n",
      "/rubric/partners\n",
      "/theme/smartbuild\n",
      "/material/2020/09/25/craters\n",
      "/rubric/ecology\n",
      "/news/2020/10/02/neuro-robot\n",
      "/news/2020/09/29/pet-recycle-chimeric\n",
      "/news/2020/10/02/bolometer-for-cqe\n",
      "/news/2020/10/01/inertial-spin-dynamics\n",
      "/material/2020/10/02/height-not-too-cool\n",
      "/news/2020/09/30/colloidaldiamond\n",
      "/news/2020/09/29/solid-glass\n",
      "/news/2020/09/29/m-51-exoplanet-or-not\n",
      "/news/2020/09/30/calcium-scz\n",
      "/news/2020/09/30/dwave-advantage-quantum-annealer\n",
      "https://nplus1.ru/blog/2020/09/30/in-search-of-constantinople\n",
      "https://nplus1.ru/blog/2020/09/30/in-search-of-constantinople\n",
      "https://nplus1.ru/blog/2020/09/28/the-hungry-steppe\n",
      "https://nplus1.ru/blog/2020/09/24/nobel-prediction\n",
      "https://nplus1.ru/blog/2020/09/18/formations-of-the-secular\n",
      "https://nplus1.ru/blog/2020/09/15/the-hidden-history-of-animal-life\n",
      "https://nplus1.ru/blog/2020/09/11/who-we-are-and-how-we-got-here\n",
      "https://nplus1.ru/blog/2020/09/10/the-science-of-storytelling\n",
      "https://nplus1.ru/blog/2020/07/27/the-apocalypse-in-art\n",
      "https://nplus1.ru/blog/2020/09/02/the-shape-of-a-life\n",
      "https://nplus1.ru/blog/2020/10/01/october-2020-observations\n",
      "/\n",
      "/about\n",
      "/adv\n",
      "/rules\n",
      "/vacancy\n",
      "/difficult\n",
      "https://nplus1.ru/personal-data-policy\n",
      "#\n",
      "https://t.me/nplusone\n",
      "http://vk.com/nplusone\n",
      "https://www.facebook.com/nplusone\n",
      "https://twitter.com/nplusodin\n",
      "https://ok.ru/nplus1\n",
      "https://soundcloud.com/nplus_1\n",
      "/rss\n"
     ]
    }
   ],
   "source": [
    "for link in soup.find_all('a'):\n",
    "    print(link.get('href'))"
   ]
  },
  {
   "cell_type": "markdown",
   "metadata": {},
   "source": [
    "Ссылок много. Но нам нужны только новости – ссылки, которые начинаются со слова `/news`. Добавим условие: будем выбирать только те ссылки, в которых есть `/news`. Создадим пустой список `urls` и будем добавлять в него только ссылки, которые удовлетворяют этому условию."
   ]
  },
  {
   "cell_type": "code",
   "execution_count": 9,
   "metadata": {},
   "outputs": [
    {
     "data": {
      "text/plain": [
       "['/news/2020/10/03/biocoronasensor',\n",
       " '/news/2020/10/03/capsule',\n",
       " '/news/2020/10/03/sand',\n",
       " '/news/2020/10/03/reaper',\n",
       " '/news/2020/10/03/cygnus-ng14',\n",
       " '/news/2020/10/02/venus-phosphine-pioneer-13',\n",
       " '/news/2020/10/02/dna-linked-nanoparticles',\n",
       " '/news/2020/10/02/social-cocroaches',\n",
       " '/news/2020/10/02/seizure-microglia',\n",
       " '/news/2020/10/02/delirium-as-simptom-of-COVID-19-in-older-people',\n",
       " '/news/2020/10/02/neuro-robot',\n",
       " '/news/2020/10/02/acropora-stronghold',\n",
       " '/news/2020/10/02/robot-ceiling',\n",
       " '/news/2020/10/02/tianwen-1-selfie',\n",
       " '/news/2020/10/02/mona-lisa-spolvero',\n",
       " '/news/2020/10/02/bolometer-for-cqe',\n",
       " '/news/2020/10/02/children-emotion-understanding',\n",
       " '/news/2020/10/01/solar-orbiter-mag-results',\n",
       " '/news/2020/10/01/homo-head-pain',\n",
       " '/news/2020/10/02/neuro-robot',\n",
       " '/news/2020/09/29/pet-recycle-chimeric',\n",
       " '/news/2020/10/02/bolometer-for-cqe',\n",
       " '/news/2020/10/01/inertial-spin-dynamics',\n",
       " '/news/2020/09/30/colloidaldiamond',\n",
       " '/news/2020/09/29/solid-glass',\n",
       " '/news/2020/09/29/m-51-exoplanet-or-not',\n",
       " '/news/2020/09/30/calcium-scz',\n",
       " '/news/2020/09/30/dwave-advantage-quantum-annealer']"
      ]
     },
     "execution_count": 9,
     "metadata": {},
     "output_type": "execute_result"
    }
   ],
   "source": [
    "urls = []\n",
    "\n",
    "for link in soup.find_all('a'):\n",
    "    if '/news' in link.get('href'):\n",
    "        urls.append(link.get('href'))\n",
    "urls"
   ]
  },
  {
   "cell_type": "markdown",
   "metadata": {},
   "source": [
    "Ссылки, которые у нас есть в списке `urls`, относительные: они неполные, начало ссылки (название сайта) отсутствует. Давайте превратим их в абсолютные ‒ склеим с ссылкой https://nplus1.ru."
   ]
  },
  {
   "cell_type": "code",
   "execution_count": 10,
   "metadata": {},
   "outputs": [
    {
     "data": {
      "text/plain": [
       "['https://nplus1.ru/news/2020/10/03/biocoronasensor',\n",
       " 'https://nplus1.ru/news/2020/10/03/capsule',\n",
       " 'https://nplus1.ru/news/2020/10/03/sand',\n",
       " 'https://nplus1.ru/news/2020/10/03/reaper',\n",
       " 'https://nplus1.ru/news/2020/10/03/cygnus-ng14',\n",
       " 'https://nplus1.ru/news/2020/10/02/venus-phosphine-pioneer-13',\n",
       " 'https://nplus1.ru/news/2020/10/02/dna-linked-nanoparticles',\n",
       " 'https://nplus1.ru/news/2020/10/02/social-cocroaches',\n",
       " 'https://nplus1.ru/news/2020/10/02/seizure-microglia',\n",
       " 'https://nplus1.ru/news/2020/10/02/delirium-as-simptom-of-COVID-19-in-older-people',\n",
       " 'https://nplus1.ru/news/2020/10/02/neuro-robot',\n",
       " 'https://nplus1.ru/news/2020/10/02/acropora-stronghold',\n",
       " 'https://nplus1.ru/news/2020/10/02/robot-ceiling',\n",
       " 'https://nplus1.ru/news/2020/10/02/tianwen-1-selfie',\n",
       " 'https://nplus1.ru/news/2020/10/02/mona-lisa-spolvero',\n",
       " 'https://nplus1.ru/news/2020/10/02/bolometer-for-cqe',\n",
       " 'https://nplus1.ru/news/2020/10/02/children-emotion-understanding',\n",
       " 'https://nplus1.ru/news/2020/10/01/solar-orbiter-mag-results',\n",
       " 'https://nplus1.ru/news/2020/10/01/homo-head-pain',\n",
       " 'https://nplus1.ru/news/2020/10/02/neuro-robot',\n",
       " 'https://nplus1.ru/news/2020/09/29/pet-recycle-chimeric',\n",
       " 'https://nplus1.ru/news/2020/10/02/bolometer-for-cqe',\n",
       " 'https://nplus1.ru/news/2020/10/01/inertial-spin-dynamics',\n",
       " 'https://nplus1.ru/news/2020/09/30/colloidaldiamond',\n",
       " 'https://nplus1.ru/news/2020/09/29/solid-glass',\n",
       " 'https://nplus1.ru/news/2020/09/29/m-51-exoplanet-or-not',\n",
       " 'https://nplus1.ru/news/2020/09/30/calcium-scz',\n",
       " 'https://nplus1.ru/news/2020/09/30/dwave-advantage-quantum-annealer']"
      ]
     },
     "execution_count": 10,
     "metadata": {},
     "output_type": "execute_result"
    }
   ],
   "source": [
    "full_urls = []\n",
    "\n",
    "for u in urls:\n",
    "    res = 'https://nplus1.ru' + u\n",
    "    full_urls.append(res) \n",
    "\n",
    "full_urls"
   ]
  },
  {
   "cell_type": "markdown",
   "metadata": {},
   "source": [
    "Теперь наша задача сводится к следующему: изучить одну страницу с новостью, научиться из нее вытаскивать текст и всю необходимую информацию, а потом применить весь набор действий к каждой ссылке из `full_urls` в цикле. Посмотрим на новость с индексом 1, у вас может быть другая, новости обновляются."
   ]
  },
  {
   "cell_type": "code",
   "execution_count": 11,
   "metadata": {},
   "outputs": [],
   "source": [
    "url0 = full_urls[1]\n",
    "\n",
    "page0 = requests.get(url0)\n",
    "soup0 = BeautifulSoup(page0.text, 'lxml')"
   ]
  },
  {
   "cell_type": "markdown",
   "metadata": {},
   "source": [
    "В коде каждой страницы с новостью есть часть с мета-информацией: датой, именем автора и проч. Такая информация окружена тэгом `<meta></meta>`. Посмотрим:"
   ]
  },
  {
   "cell_type": "code",
   "execution_count": 12,
   "metadata": {},
   "outputs": [
    {
     "data": {
      "text/plain": [
       "[<meta charset=\"utf-8\"/>,\n",
       " <meta content=\"ie=edge\" http-equiv=\"x-ua-compatible\"/>,\n",
       " <meta content=\"width=device-width, initial-scale=1\" name=\"viewport\"/>,\n",
       " <meta content=\"yes\" name=\"apple-mobile-web-app-capable\"/>,\n",
       " <meta content=\"black\" name=\"apple-mobile-web-app-status-bar-style\"/>,\n",
       " <meta content=\"2020-10-03\" itemprop=\"datePublished\"/>,\n",
       " <meta content=\"Василий Сычев\" name=\"mediator_author\"/>,\n",
       " <meta content=\"Масса аппарата составляет 250 граммов\" name=\"description\"/>,\n",
       " <meta content=\"Василий Сычев\" name=\"author\"/>,\n",
       " <meta content=\"\" name=\"copyright\"/>,\n",
       " <meta content=\"Израильтяне представили карманный беспилотник капсульного запуска\" property=\"og:title\"/>,\n",
       " <meta content=\"https://nplus1.ru/images/2020/10/03/cef51be39f54abf3beeba9f096816696.jpg\" property=\"og:image\"/>,\n",
       " <meta content=\"https://nplus1.ru/news/2020/10/03/capsule\" property=\"og:url\"/>,\n",
       " <meta content=\"Масса аппарата составляет 250 граммов\" property=\"og:description\"/>,\n",
       " <meta content=\"summary_large_image\" name=\"twitter:card\"/>,\n",
       " <meta content=\"@nplusodin\" name=\"twitter:site\"/>,\n",
       " <meta content=\"Израильтяне представили карманный беспилотник капсульного запуска\" name=\"twitter:title\"/>,\n",
       " <meta content=\"Масса аппарата составляет 250 граммов\" name=\"twitter:description\"/>,\n",
       " <meta content=\"https://nplus1.ru/images/2020/10/03/cef51be39f54abf3beeba9f096816696.jpg\" name=\"twitter:image\"/>,\n",
       " <meta content=\"8c90b02c84ac3b72\" name=\"yandex-verification\"/>]"
      ]
     },
     "execution_count": 12,
     "metadata": {},
     "output_type": "execute_result"
    }
   ],
   "source": [
    "soup0.find_all('meta')"
   ]
  },
  {
   "cell_type": "markdown",
   "metadata": {},
   "source": [
    "Из этого списка нам нужны части с именем автора, датой, заголовком и кратким описанием. Воспользуемся поиском по атрибуту `name`. Передадим функции `find_all()` в качестве аргумента словарь с названием и значением атрибута: "
   ]
  },
  {
   "cell_type": "code",
   "execution_count": 13,
   "metadata": {},
   "outputs": [
    {
     "data": {
      "text/plain": [
       "[<meta content=\"Василий Сычев\" name=\"author\"/>]"
      ]
     },
     "execution_count": 13,
     "metadata": {},
     "output_type": "execute_result"
    }
   ],
   "source": [
    "soup0.find_all('meta', {'name' : 'author'}) # например, автор"
   ]
  },
  {
   "cell_type": "markdown",
   "metadata": {},
   "source": [
    "Теперь выберем единственный элемент полученного списка (с индексом 0):"
   ]
  },
  {
   "cell_type": "code",
   "execution_count": 14,
   "metadata": {},
   "outputs": [
    {
     "data": {
      "text/plain": [
       "<meta content=\"Василий Сычев\" name=\"author\"/>"
      ]
     },
     "execution_count": 14,
     "metadata": {},
     "output_type": "execute_result"
    }
   ],
   "source": [
    "soup0.find_all('meta', {'name' : 'author'})[0]"
   ]
  },
  {
   "cell_type": "markdown",
   "metadata": {},
   "source": [
    "Нам нужно вытащить из этого объекта `content` – имя автора. Посмотрим на атрибуты:"
   ]
  },
  {
   "cell_type": "code",
   "execution_count": 15,
   "metadata": {},
   "outputs": [
    {
     "data": {
      "text/plain": [
       "{'name': 'author', 'content': 'Василий Сычев'}"
      ]
     },
     "execution_count": 15,
     "metadata": {},
     "output_type": "execute_result"
    }
   ],
   "source": [
    "soup0.find_all('meta', {'name' : 'author'})[0].attrs"
   ]
  },
  {
   "cell_type": "markdown",
   "metadata": {},
   "source": [
    "Как получить отсюда `content`? Очень просто, ведь это словарь! А доставать из словаря значение по ключу мы умеем."
   ]
  },
  {
   "cell_type": "code",
   "execution_count": 16,
   "metadata": {},
   "outputs": [
    {
     "data": {
      "text/plain": [
       "'Василий Сычев'"
      ]
     },
     "execution_count": 16,
     "metadata": {},
     "output_type": "execute_result"
    }
   ],
   "source": [
    "author = soup0.find_all('meta', {'name' : 'author'})[0].attrs['content']\n",
    "author"
   ]
  },
  {
   "cell_type": "markdown",
   "metadata": {},
   "source": [
    "Аналогичным образом извлечем дату, заголовок и описание."
   ]
  },
  {
   "cell_type": "code",
   "execution_count": 17,
   "metadata": {},
   "outputs": [],
   "source": [
    "date = soup0.find_all('meta', {'itemprop' : 'datePublished'})[0].attrs['content']\n",
    "title = soup0.find_all('meta', {'property' : 'og:title'})[0].attrs['content']\n",
    "description = soup0.find_all('meta', {'name' : 'description'})[0].attrs['content']"
   ]
  },
  {
   "cell_type": "markdown",
   "metadata": {},
   "source": [
    "Осталось вытащить рубрики и сложность текста. Если мы посмотрим на исходный код страницы, мы увидим, что нужная нам информация находится в тэгах `<p></p>`:"
   ]
  },
  {
   "cell_type": "code",
   "execution_count": 18,
   "metadata": {},
   "outputs": [
    {
     "data": {
      "text/plain": [
       "[<p class=\"table\">\n",
       " <a data-rubric=\"weapon\" href=\"/rubric/weapon\">Оружие</a>\n",
       " </p>, <p class=\"table\">\n",
       " <a href=\"/news/2020/10/03\">\n",
       " <time content=\"2020-10-03\" data-unix=\"1601726322\" itemprop=\"datePublished\">\n",
       " <span>14:58</span>\n",
       " <span>03 Окт. 2020</span>\n",
       " </time>\n",
       " </a>\n",
       " </p>, <p class=\"table\">\n",
       " <a href=\"/difficult/3.1\">\n",
       " <span>Сложность</span>\n",
       " <span class=\"difficult-value\">3.1</span>\n",
       " </a>\n",
       " </p>, <p class=\"title\">Запуск Ninox 40</p>, <p class=\"credits\">SpearUAV</p>, <p>Израильская компания SpearUAV представила карманный разведывательный беспилотный летательный аппарат Ninox 40. Как <a href=\"https://www.janes.com/defence-news/news-detail/spearuav-unveils-hand-launched-ninox-40-encapsulated-uas\" rel=\"nofollow\" target=\"_blank\">сообщает</a> Jane’s, новый аппарат располагается в цилиндрической капсуле, из которой и осуществляется его запуск. После разведки оператор может подобрать беспилотник и позднее использовать повторно или бросить его.</p>, <p>Сегодня несколько компаний в мире занимаются разработкой, производством и поставкой небольших беспилотников, некоторых из которых без труда можно переносить в кармане. В частности, выпуском таких аппаратов — PD-100 Black Hornet — <a href=\"https://nplus1.ru/news/2015/09/23/black-hornet\" target=\"_blank\">занимается</a> американская компания Prox Dynamics. Эти беспилотники созданы для того, чтобы бойцы могли быстро провести разведку местности.</p>, <p>Аппарат Ninox 40 разработан для решения нескольких задач, в числе которых наблюдение, разведка, рекогносцировка и поиск целей. Ninox 40 представляет собой небольшой квадрокоптер с убираемыми в фюзеляж плечами и воздушными винтами. Беспилотник способен выполнять полеты продолжительностью до 40 минут. Масса аппарата составляет 250 граммов.</p>, <p>Ninox 40 располагается в капсуле, через которую оператор может его запрограммировать, назначив маршрут полета или определив ключевые точки для наблюдения. Беспилотником также можно управлять в ручном режиме. Вместе с аппаратом поставляется планшет, на который поступает разведывательная информация, и два джойстика для управления. Они крепятся по сторонам планшета.</p>, <p>В 2016 году американская компания AeroVironment <a href=\"https://nplus1.ru/news/2016/10/17/quadro\" target=\"_blank\">разработала</a> карманный квадрокоптер Snipe для бойцов Армии США Snipe. Масса аппарата составляет всего 130 граммов при ширине и длине в разложенном состоянии — 15 сантиметров. Продолжительность полета Snipe составляет 20 минут, а дальность его действия — один километр. На подготовку к запуску и запуск Snipe необходимо меньше минуты.</p>, <p><i>Василий Сычёв</i></p>, <p>Нашли опечатку? Выделите фрагмент и нажмите Ctrl+Enter.</p>, <p class=\"subtitle\">Каких интересных птиц можно увидеть в России осенью</p>, <p>Коэффициент сложности</p>, <p>Коэффициент сложности</p>, <p>Коэффициент сложности</p>, <p>Коэффициент сложности</p>, <p>Коэффициент сложности</p>, <p>Коэффициент сложности</p>, <p>Коэффициент сложности</p>, <p>Коэффициент сложности</p>, <p>Коэффициент сложности</p>, <p>Коэффициент сложности</p>, <p>© 2020 N+1 Интернет-издание   Свидетельство о регистрации СМИ Эл № ФС77-67614</p>, <p>Использование всех текстовых материалов без изменений в некоммерческих целях разрешается со ссылкой на N+1. \n",
       "                         Все аудиовизуальные произведения являются собственностью своих авторов и правообладателей и используются \n",
       "                         только в образовательных и информационных целях. Если вы являетесь собственником того или иного произведения \n",
       "                         и не согласны с его размещением на нашем сайте, пожалуйста, напишите на kirill@nplus1.ru</p>, <p>Материалы, опубликованные в разделе «Блоги», отражают позиции их авторов, которые могут не совпадать с мнением редакции.</p>, <p>Сайт может содержать контент, не предназначенный для лиц младше 18 лет.</p>, <p>\n",
       " <a class=\"pd\" href=\"https://nplus1.ru/personal-data-policy\">Политика обработки персональных данных пользователей сайта</a>\n",
       " </p>, <p>\n",
       " <script async=\"\" src=\"//s.luxupcdnc.com/t/consent_195458.js\" type=\"text/javascript\"></script>\n",
       " <a href=\"#\" onclick=\"if(window.__lxG__consent__ !== undefined) {window.__lxG__consent__.showConsent()} else {alert('This function works only for users from the European Economic Area (EEA).')}; return false\">Change privacy settings</a>\n",
       " </p>, <p>\n",
       " </p>]"
      ]
     },
     "execution_count": 18,
     "metadata": {},
     "output_type": "execute_result"
    }
   ],
   "source": [
    "soup0.find_all('p')"
   ]
  },
  {
   "cell_type": "markdown",
   "metadata": {},
   "source": [
    "Выберем из полученного списка первый элемент и найдем в нем все тэги `<a>`:"
   ]
  },
  {
   "cell_type": "code",
   "execution_count": 19,
   "metadata": {},
   "outputs": [
    {
     "data": {
      "text/plain": [
       "[<a data-rubric=\"weapon\" href=\"/rubric/weapon\">Оружие</a>]"
      ]
     },
     "execution_count": 19,
     "metadata": {},
     "output_type": "execute_result"
    }
   ],
   "source": [
    "soup0.find_all('p')[0].find_all('a')"
   ]
  },
  {
   "cell_type": "markdown",
   "metadata": {},
   "source": [
    "Получился список из одного элемента. Применим списковые включения – вытащим из каждого элемента (их могло бы быть больше) текст и поместим его в новый список `rubrics`."
   ]
  },
  {
   "cell_type": "code",
   "execution_count": 20,
   "metadata": {},
   "outputs": [
    {
     "data": {
      "text/plain": [
       "['Оружие']"
      ]
     },
     "execution_count": 20,
     "metadata": {},
     "output_type": "execute_result"
    }
   ],
   "source": [
    "rubrics = [r.text for r in soup0.find_all('p')[0].find_all('a')]\n",
    "rubrics"
   ]
  },
  {
   "cell_type": "markdown",
   "metadata": {},
   "source": [
    "Осталась только сложность. Возьмем соответствующий кусок кода:"
   ]
  },
  {
   "cell_type": "code",
   "execution_count": 21,
   "metadata": {},
   "outputs": [
    {
     "data": {
      "text/plain": [
       "[<span class=\"difficult-value\">3.1</span>]"
      ]
     },
     "execution_count": 21,
     "metadata": {},
     "output_type": "execute_result"
    }
   ],
   "source": [
    "soup0.find_all('span', {'class' : 'difficult-value'})"
   ]
  },
  {
   "cell_type": "markdown",
   "metadata": {},
   "source": [
    "И выберем оттуда текст."
   ]
  },
  {
   "cell_type": "code",
   "execution_count": 22,
   "metadata": {},
   "outputs": [
    {
     "data": {
      "text/plain": [
       "'3.1'"
      ]
     },
     "execution_count": 22,
     "metadata": {},
     "output_type": "execute_result"
    }
   ],
   "source": [
    "diff = soup0.find_all('span', {'class' : 'difficult-value'})[0].text\n",
    "diff"
   ]
  },
  {
   "cell_type": "markdown",
   "metadata": {},
   "source": [
    "Теперь перейдем к тексту самой новости. Как можно заметить, текст сохранен в абзацах `<p></p>`, причем безо всяких атрибутов. Сообщим Python, что нас интересуют куски с пустым атрибутом `class`:"
   ]
  },
  {
   "cell_type": "code",
   "execution_count": 23,
   "metadata": {},
   "outputs": [],
   "source": [
    "text_list = soup0.find_all('p', {'class' : None})"
   ]
  },
  {
   "cell_type": "markdown",
   "metadata": {},
   "source": [
    "«Выцепим» все тексты (без тэгов) из полученного списка:"
   ]
  },
  {
   "cell_type": "code",
   "execution_count": 24,
   "metadata": {},
   "outputs": [],
   "source": [
    "text = [t.text for t in text_list]"
   ]
  },
  {
   "cell_type": "markdown",
   "metadata": {},
   "source": [
    "Склеим все элементы списка `text` через пробел:"
   ]
  },
  {
   "cell_type": "code",
   "execution_count": 25,
   "metadata": {},
   "outputs": [
    {
     "data": {
      "text/plain": [
       "'Израильская компания SpearUAV представила карманный разведывательный беспилотный летательный аппарат Ninox\\xa040. Как сообщает Jane’s, новый аппарат располагается в\\xa0цилиндрической капсуле, из\\xa0которой и\\xa0осуществляется его запуск. После разведки оператор может подобрать беспилотник и\\xa0позднее использовать повторно или бросить его. Сегодня несколько компаний в\\xa0мире занимаются разработкой, производством и\\xa0поставкой небольших беспилотников, некоторых из\\xa0которых без труда можно переносить в\\xa0кармане. В\\xa0частности, выпуском таких аппаратов\\xa0— PD-100 Black Hornet\\xa0— занимается американская компания Prox Dynamics. Эти беспилотники созданы для того, чтобы бойцы могли быстро провести разведку местности. Аппарат Ninox 40\\xa0разработан для решения нескольких задач, в\\xa0числе которых наблюдение, разведка, рекогносцировка и\\xa0поиск целей. Ninox 40\\xa0представляет собой небольшой квадрокоптер с\\xa0убираемыми в\\xa0фюзеляж плечами и\\xa0воздушными винтами. Беспилотник способен выполнять полеты продолжительностью до\\xa040\\xa0минут. Масса аппарата составляет 250\\xa0граммов. Ninox 40\\xa0располагается в\\xa0капсуле, через которую оператор может его запрограммировать, назначив маршрут полета или определив ключевые точки для наблюдения. Беспилотником также можно управлять в\\xa0ручном режиме. Вместе с\\xa0аппаратом поставляется планшет, на\\xa0который поступает разведывательная информация, и\\xa0два джойстика для управления. Они крепятся по\\xa0сторонам планшета. В\\xa02016 году американская компания AeroVironment разработала карманный квадрокоптер Snipe для бойцов Армии США Snipe. Масса аппарата составляет всего 130 граммов при ширине и\\xa0длине в\\xa0разложенном состоянии\\xa0— 15\\xa0сантиметров. Продолжительность полета Snipe составляет 20\\xa0минут, а\\xa0дальность его действия\\xa0— один километр. На\\xa0подготовку к\\xa0запуску и\\xa0запуск Snipe необходимо меньше минуты. Василий Сычёв Нашли опечатку? Выделите фрагмент и нажмите Ctrl+Enter. Коэффициент сложности Коэффициент сложности Коэффициент сложности Коэффициент сложности Коэффициент сложности Коэффициент сложности Коэффициент сложности Коэффициент сложности Коэффициент сложности Коэффициент сложности © 2020 N+1 Интернет-издание \\xa0 Свидетельство о регистрации СМИ Эл № ФС77-67614 Использование всех текстовых материалов без изменений в некоммерческих целях разрешается со ссылкой на N+1. \\n                        Все аудиовизуальные произведения являются собственностью своих авторов и правообладателей и используются \\n                        только в образовательных и информационных целях. Если вы являетесь собственником того или иного произведения \\n                        и не согласны с его размещением на нашем сайте, пожалуйста, напишите на kirill@nplus1.ru Материалы, опубликованные в разделе «Блоги», отражают позиции их авторов, которые могут не совпадать с мнением редакции. Сайт может содержать контент, не предназначенный для лиц младше 18 лет. \\nПолитика обработки персональных данных пользователей сайта\\n \\n\\nChange privacy settings\\n \\n'"
      ]
     },
     "execution_count": 25,
     "metadata": {},
     "output_type": "execute_result"
    }
   ],
   "source": [
    "final_text = ' '.join(text)\n",
    "final_text"
   ]
  },
  {
   "cell_type": "markdown",
   "metadata": {},
   "source": [
    "Все здорово, только мешают отступы-переходы на новую строку `\\n`. Заменим их на пробелы с помощью метода `.replace`:"
   ]
  },
  {
   "cell_type": "code",
   "execution_count": 26,
   "metadata": {},
   "outputs": [],
   "source": [
    "final_text = final_text.replace('\\n', ' ')"
   ]
  },
  {
   "cell_type": "markdown",
   "metadata": {},
   "source": [
    "Теперь осталось совсем чуть-чуть. Написать готовую функцию для всех проделанных нами действий и применить ее в цикле для всех ссылок в списке `full_urls`. Напишем! Аргументом функции будет ссылка на новость, а возвращать она будет текст новости и всю необходимую информацию (дата, автор, сложность и проч.). Скопируем все строки кода выше."
   ]
  },
  {
   "cell_type": "code",
   "execution_count": 27,
   "metadata": {},
   "outputs": [],
   "source": [
    "def GetNews(url0):\n",
    "    \"\"\"\n",
    "    Returns a tuple with url0, date, author, description, title, final_text, rubrics, diff.\n",
    "    Parameters:\n",
    "    \n",
    "    url0 is a link to the news (string)\n",
    "    \"\"\"\n",
    "    page0 = requests.get(url0)\n",
    "    soup0 = BeautifulSoup(page0.text, 'lxml')\n",
    "    author = soup0.find_all('meta', {'name' : 'author'})[0].attrs['content']\n",
    "    date = soup0.find_all('meta', {'itemprop' : 'datePublished'})[0].attrs['content']\n",
    "    title = soup0.find_all('meta', {'property' : 'og:title'})[0].attrs['content']\n",
    "    description = soup0.find_all('meta', {'name' : 'description'})[0].attrs['content']\n",
    "    rubrics = [r.text for r in soup0.find_all('p')[0].find_all('a')]\n",
    "    diff = soup0.find_all('span', {'class' : 'difficult-value'})[0].text\n",
    "    text_list = soup0.find_all('p', {'class' : None})\n",
    "    text = [t.text for t in text_list]\n",
    "    final_text = ' '.join(text)\n",
    "    final_text = final_text.replace('\\n', ' ')\n",
    "    \n",
    "    return url0, date, author, description, title, final_text, rubrics, diff"
   ]
  },
  {
   "cell_type": "markdown",
   "metadata": {},
   "source": [
    "Уфф. Осталось применить ее в цикле. Но давайте не будем спешить: импортируем функцию `sleep` для задержки, чтобы на каждой итерации цикла, прежде чем перейти к следующей новости, Python ждал несколько секунд. Во-первых, это нужно, чтобы сайт «не понял», чтобы мы его грабим, да еще автоматически. Во-вторых, с небольшой задержкой всегда есть гарантия, что страница прогрузится (сейчас это пока не очень важно, но особенно актуально будет, когда будем обсуждать встраивание в браузер с Selenium). Приступим."
   ]
  },
  {
   "cell_type": "code",
   "execution_count": 28,
   "metadata": {},
   "outputs": [],
   "source": [
    "from time import sleep"
   ]
  },
  {
   "cell_type": "code",
   "execution_count": 29,
   "metadata": {},
   "outputs": [],
   "source": [
    "news = [] # это будет список из кортежей, в которых будут храниться данные по каждой новости\n",
    "\n",
    "for link in full_urls:\n",
    "    res = GetNews(link)\n",
    "    news.append(res)\n",
    "    sleep(3) # задержка в 3 секунды"
   ]
  },
  {
   "cell_type": "markdown",
   "metadata": {},
   "source": [
    "Так теперь выглядит первый элемент списка:"
   ]
  },
  {
   "cell_type": "code",
   "execution_count": 30,
   "metadata": {},
   "outputs": [
    {
     "data": {
      "text/plain": [
       "('https://nplus1.ru/news/2020/10/03/biocoronasensor',\n",
       " '2020-10-03',\n",
       " 'Оксана Борзенкова',\n",
       " 'без обращения в больницу и всего за несколько минут',\n",
       " 'Графеновый сенсор позволил сделать экспресс-тест на COVID-19',\n",
       " 'Ученые создали биосенсор на\\xa0основе графена для экспресс-теста на\\xa0COVID-19. Такой тест можно делать самостоятельно на\\xa0дому и\\xa0получить результат меньше чем за\\xa0десять минут. Работа опубликована в\\xa0журнале Matter. О\\xa0наличии вируса и\\xa0его влиянии на\\xa0организм можно судить по\\xa0разным биомаркерам. Например, результатом ответа иммунной системы на\\xa0антиген вируса служат антитела, причем для каждого типа вируса организм вырабатывает специфичные антитела. В\\xa0зависимости от\\xa0стадии заболевания, это могут быть иммуноглобулин\\xa0G (IgG) или иммуноглобулин\\xa0M (IgM). Другие маркеры\\xa0— нуклеокапсидный белок, который играет роль в\\xa0сборке новых вирусных частиц и  С-реактивный белок, который показывает тяжесть заболевания. В\\xa0настоящее время существует множество методов для обнаружения этих маркеров, один из\\xa0которых\\xa0— электрохимический. Электрохимический способ детектирования молекул позволяет определять их\\xa0концентрацию по\\xa0изменению протекающего между электродами тока. Один из\\xa0электродов (рабочий) выполняет роль подложки для сборки биологической структуры, которая взаимодействует с\\xa0детектируемыми маркерами. В\\xa0зависимости от\\xa0концентрации маркера, который связался со\\xa0структурой меняется сопротивление, а\\xa0значит и\\xa0ток между электродами. Эти важные биологические части структуры называются функциональными и\\xa0могут быть разных типов\\xa0— прямого (с\\xa0использование одного антитела), непрямого (используются два антитела, одно из\\xa0которых меченое), типа «сэндвич» (белок, который нужно зарегистрировать находится между двумя антителами).   Такая структура называется «сэндвич» и\\xa0обладает высокой чувствительностью из-за наличия двух антител. Структура для детектирования IgG и\\xa0IgM выглядит проще и\\xa0состоит из\\xa0кусочка самого вируса SARS-CoV-2, с\\xa0которым связывается антитело, и\\xa0меченого антитела. Из-за наличия второго антитела, такая структура называется непрямой.  Помимо измерений разбавленных в\\xa0буферном растворе маркеров, авторы протестировали сенсор на\\xa0реальных биологических жидкостях\\xa0— плазме крови и\\xa0слюне. Результаты для плазмы оказались более контрастными, но\\xa0в\\xa0обоих случаях они смогли достоверно определить наличие вируса и\\xa0оценить тяжесть заболевания.  Наличие доступных и\\xa0чувствительных экспресс-тестов на\\xa0COVID-19 может значительно упросить жизнь в\\xa0период пандемии и\\xa0помочь в\\xa0борьбе с\\xa0ней. Для этого можно использовать не\\xa0только сенсоры или другие разработки, но\\xa0и, к\\xa0примеру, собак. Немецкие ученые уже проводят исследования и\\xa0тренируют собак находить COVID-19 по\\xa0запаху. Оксана Борзенкова Нашли опечатку? Выделите фрагмент и нажмите Ctrl+Enter. Коэффициент сложности Коэффициент сложности Коэффициент сложности Коэффициент сложности Коэффициент сложности Коэффициент сложности Коэффициент сложности Коэффициент сложности Коэффициент сложности Коэффициент сложности © 2020 N+1 Интернет-издание \\xa0 Свидетельство о регистрации СМИ Эл № ФС77-67614 Использование всех текстовых материалов без изменений в некоммерческих целях разрешается со ссылкой на N+1.                          Все аудиовизуальные произведения являются собственностью своих авторов и правообладателей и используются                          только в образовательных и информационных целях. Если вы являетесь собственником того или иного произведения                          и не согласны с его размещением на нашем сайте, пожалуйста, напишите на kirill@nplus1.ru Материалы, опубликованные в разделе «Блоги», отражают позиции их авторов, которые могут не совпадать с мнением редакции. Сайт может содержать контент, не предназначенный для лиц младше 18 лет.  Политика обработки персональных данных пользователей сайта    Change privacy settings   ',\n",
       " ['Медицина', 'Биология', 'Коронавирусные хроники'],\n",
       " '3.9')"
      ]
     },
     "execution_count": 30,
     "metadata": {},
     "output_type": "execute_result"
    }
   ],
   "source": [
    "news[0]"
   ]
  },
  {
   "cell_type": "markdown",
   "metadata": {},
   "source": [
    "Импортируем `pandas` и создадим датафрейм из списка кортежей: "
   ]
  },
  {
   "cell_type": "code",
   "execution_count": 31,
   "metadata": {},
   "outputs": [],
   "source": [
    "import pandas as pd"
   ]
  },
  {
   "cell_type": "code",
   "execution_count": 32,
   "metadata": {},
   "outputs": [],
   "source": [
    "df = pd.DataFrame(news)"
   ]
  },
  {
   "cell_type": "code",
   "execution_count": 33,
   "metadata": {},
   "outputs": [
    {
     "data": {
      "text/html": [
       "<div>\n",
       "<style scoped>\n",
       "    .dataframe tbody tr th:only-of-type {\n",
       "        vertical-align: middle;\n",
       "    }\n",
       "\n",
       "    .dataframe tbody tr th {\n",
       "        vertical-align: top;\n",
       "    }\n",
       "\n",
       "    .dataframe thead th {\n",
       "        text-align: right;\n",
       "    }\n",
       "</style>\n",
       "<table border=\"1\" class=\"dataframe\">\n",
       "  <thead>\n",
       "    <tr style=\"text-align: right;\">\n",
       "      <th></th>\n",
       "      <th>0</th>\n",
       "      <th>1</th>\n",
       "      <th>2</th>\n",
       "      <th>3</th>\n",
       "      <th>4</th>\n",
       "      <th>5</th>\n",
       "      <th>6</th>\n",
       "      <th>7</th>\n",
       "    </tr>\n",
       "  </thead>\n",
       "  <tbody>\n",
       "    <tr>\n",
       "      <th>0</th>\n",
       "      <td>https://nplus1.ru/news/2020/10/03/biocoronasensor</td>\n",
       "      <td>2020-10-03</td>\n",
       "      <td>Оксана Борзенкова</td>\n",
       "      <td>без обращения в больницу и всего за несколько ...</td>\n",
       "      <td>Графеновый сенсор позволил сделать экспресс-те...</td>\n",
       "      <td>Ученые создали биосенсор на основе графена для...</td>\n",
       "      <td>[Медицина, Биология, Коронавирусные хроники]</td>\n",
       "      <td>3.9</td>\n",
       "    </tr>\n",
       "    <tr>\n",
       "      <th>1</th>\n",
       "      <td>https://nplus1.ru/news/2020/10/03/capsule</td>\n",
       "      <td>2020-10-03</td>\n",
       "      <td>Василий Сычев</td>\n",
       "      <td>Масса аппарата составляет 250 граммов</td>\n",
       "      <td>Израильтяне представили карманный беспилотник ...</td>\n",
       "      <td>Израильская компания SpearUAV представила карм...</td>\n",
       "      <td>[Оружие]</td>\n",
       "      <td>3.1</td>\n",
       "    </tr>\n",
       "  </tbody>\n",
       "</table>\n",
       "</div>"
      ],
      "text/plain": [
       "                                                   0           1  \\\n",
       "0  https://nplus1.ru/news/2020/10/03/biocoronasensor  2020-10-03   \n",
       "1          https://nplus1.ru/news/2020/10/03/capsule  2020-10-03   \n",
       "\n",
       "                   2                                                  3  \\\n",
       "0  Оксана Борзенкова  без обращения в больницу и всего за несколько ...   \n",
       "1      Василий Сычев              Масса аппарата составляет 250 граммов   \n",
       "\n",
       "                                                   4  \\\n",
       "0  Графеновый сенсор позволил сделать экспресс-те...   \n",
       "1  Израильтяне представили карманный беспилотник ...   \n",
       "\n",
       "                                                   5  \\\n",
       "0  Ученые создали биосенсор на основе графена для...   \n",
       "1  Израильская компания SpearUAV представила карм...   \n",
       "\n",
       "                                              6    7  \n",
       "0  [Медицина, Биология, Коронавирусные хроники]  3.9  \n",
       "1                                      [Оружие]  3.1  "
      ]
     },
     "execution_count": 33,
     "metadata": {},
     "output_type": "execute_result"
    }
   ],
   "source": [
    "df.head(2)"
   ]
  },
  {
   "cell_type": "markdown",
   "metadata": {},
   "source": [
    "Переименуем столбцы в базе."
   ]
  },
  {
   "cell_type": "code",
   "execution_count": 34,
   "metadata": {},
   "outputs": [],
   "source": [
    "df.columns = ['link', 'date', 'author', 'desc', 'title', 'text', 'rubric', 'diffc']"
   ]
  },
  {
   "cell_type": "code",
   "execution_count": 35,
   "metadata": {},
   "outputs": [
    {
     "data": {
      "text/html": [
       "<div>\n",
       "<style scoped>\n",
       "    .dataframe tbody tr th:only-of-type {\n",
       "        vertical-align: middle;\n",
       "    }\n",
       "\n",
       "    .dataframe tbody tr th {\n",
       "        vertical-align: top;\n",
       "    }\n",
       "\n",
       "    .dataframe thead th {\n",
       "        text-align: right;\n",
       "    }\n",
       "</style>\n",
       "<table border=\"1\" class=\"dataframe\">\n",
       "  <thead>\n",
       "    <tr style=\"text-align: right;\">\n",
       "      <th></th>\n",
       "      <th>link</th>\n",
       "      <th>date</th>\n",
       "      <th>author</th>\n",
       "      <th>desc</th>\n",
       "      <th>title</th>\n",
       "      <th>text</th>\n",
       "      <th>rubric</th>\n",
       "      <th>diffc</th>\n",
       "    </tr>\n",
       "  </thead>\n",
       "  <tbody>\n",
       "    <tr>\n",
       "      <th>0</th>\n",
       "      <td>https://nplus1.ru/news/2020/10/03/biocoronasensor</td>\n",
       "      <td>2020-10-03</td>\n",
       "      <td>Оксана Борзенкова</td>\n",
       "      <td>без обращения в больницу и всего за несколько ...</td>\n",
       "      <td>Графеновый сенсор позволил сделать экспресс-те...</td>\n",
       "      <td>Ученые создали биосенсор на основе графена для...</td>\n",
       "      <td>[Медицина, Биология, Коронавирусные хроники]</td>\n",
       "      <td>3.9</td>\n",
       "    </tr>\n",
       "    <tr>\n",
       "      <th>1</th>\n",
       "      <td>https://nplus1.ru/news/2020/10/03/capsule</td>\n",
       "      <td>2020-10-03</td>\n",
       "      <td>Василий Сычев</td>\n",
       "      <td>Масса аппарата составляет 250 граммов</td>\n",
       "      <td>Израильтяне представили карманный беспилотник ...</td>\n",
       "      <td>Израильская компания SpearUAV представила карм...</td>\n",
       "      <td>[Оружие]</td>\n",
       "      <td>3.1</td>\n",
       "    </tr>\n",
       "  </tbody>\n",
       "</table>\n",
       "</div>"
      ],
      "text/plain": [
       "                                                link        date  \\\n",
       "0  https://nplus1.ru/news/2020/10/03/biocoronasensor  2020-10-03   \n",
       "1          https://nplus1.ru/news/2020/10/03/capsule  2020-10-03   \n",
       "\n",
       "              author                                               desc  \\\n",
       "0  Оксана Борзенкова  без обращения в больницу и всего за несколько ...   \n",
       "1      Василий Сычев              Масса аппарата составляет 250 граммов   \n",
       "\n",
       "                                               title  \\\n",
       "0  Графеновый сенсор позволил сделать экспресс-те...   \n",
       "1  Израильтяне представили карманный беспилотник ...   \n",
       "\n",
       "                                                text  \\\n",
       "0  Ученые создали биосенсор на основе графена для...   \n",
       "1  Израильская компания SpearUAV представила карм...   \n",
       "\n",
       "                                         rubric diffc  \n",
       "0  [Медицина, Биология, Коронавирусные хроники]   3.9  \n",
       "1                                      [Оружие]   3.1  "
      ]
     },
     "execution_count": 35,
     "metadata": {},
     "output_type": "execute_result"
    }
   ],
   "source": [
    "df.head(2)"
   ]
  },
  {
   "cell_type": "markdown",
   "metadata": {},
   "source": [
    "Теперь внесем изменения: сделаем столбец `diffc` числовым – типа *float*."
   ]
  },
  {
   "cell_type": "code",
   "execution_count": 43,
   "metadata": {},
   "outputs": [],
   "source": [
    "df.to_excel('nplus-news.xlsx')"
   ]
  }
 ],
 "metadata": {
  "kernelspec": {
   "display_name": "Python 3",
   "language": "python",
   "name": "python3"
  },
  "language_info": {
   "codemirror_mode": {
    "name": "ipython",
    "version": 3
   },
   "file_extension": ".py",
   "mimetype": "text/x-python",
   "name": "python",
   "nbconvert_exporter": "python",
   "pygments_lexer": "ipython3",
   "version": "3.6.5"
  }
 },
 "nbformat": 4,
 "nbformat_minor": 2
}
